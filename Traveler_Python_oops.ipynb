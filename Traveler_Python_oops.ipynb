{
  "nbformat": 4,
  "nbformat_minor": 0,
  "metadata": {
    "colab": {
      "name": "Traveler_Python_oops.ipynb",
      "provenance": [],
      "collapsed_sections": []
    },
    "kernelspec": {
      "name": "python3",
      "display_name": "Python 3"
    },
    "language_info": {
      "name": "python"
    }
  },
  "cells": [
    {
      "cell_type": "code",
      "execution_count": 5,
      "metadata": {
        "colab": {
          "base_uri": "https://localhost:8080/"
        },
        "id": "H5CdaT9WjMyQ",
        "outputId": "427f965e-f281-45ec-9448-dc672663a464"
      },
      "outputs": [
        {
          "output_type": "stream",
          "name": "stdout",
          "text": [
            "Enter the No Of Traveler : 1\n",
            "Enter the name of Traveler : uj\n",
            "Enter the No of Country Taveled : 2\n",
            "Enter the country Name : pak\n",
            "Enter the country Name : china\n",
            "Enter The age of Traveler : 23\n",
            "Enter the country of traveler from : ind\n",
            "Enter the country Name Tobe Find : pak\n",
            "The No Of Traveler Traveled in pak is : 1\n",
            "The Name of Traveler Traveled In Maxmum Country : uj\n"
          ]
        }
      ],
      "source": [
        "class Traveler:\n",
        "  def __init__(self,travelerName,traveleCountry,travelerAge,countryFrom):\n",
        "    self.travelerName = travelerName\n",
        "    self.traveledCountry = traveledCountry\n",
        "    self.travelerAge = travelerAge\n",
        "    self.countryFrom = countryFrom\n",
        "\n",
        "class TravelAgency:\n",
        "  # To find the Number of Traveler Traveled in particular country\n",
        "  @classmethod\n",
        "  def countTravlersTraveledCountry(self,traveledCountry,Find_Country):\n",
        "    counter = 0\n",
        "    for i in list_obj:\n",
        "      if Find_Country in i.traveledCountry:\n",
        "        counter += 1\n",
        "    return counter\n",
        "  \n",
        "  @classmethod\n",
        "   # To find The Traveler Name Who Traveled Maximum no of country\n",
        "\n",
        "  def getTravellerTraveledMaxCountry(self,traveledCountry):\n",
        "\n",
        "    max_country = 0\n",
        "    max_name = \"\"\n",
        "    for i in list_obj:\n",
        "      list1 = i.traveledCountry\n",
        "      if max_country < len(list1):\n",
        "        max_country = len(list1)\n",
        "        max_name = i.travelerName\n",
        "    return max_name\n",
        "\n",
        "\n",
        "\n",
        "\n",
        "n = int(input(\"Enter the No Of Traveler : \"))\n",
        "list_obj = []\n",
        "\n",
        "for i in range (n):\n",
        "  travelerName = input(\"Enter the name of Traveler : \")\n",
        "  Contry_traveled = int(input(\"Enter the No of Country Taveled : \"))\n",
        "  traveledCountry = []\n",
        "  for j in range (Contry_traveled):\n",
        "    traveledCountry.append(input(\"Enter the country Name : \"))\n",
        "  travelerAge = int(input(\"Enter The age of Traveler : \"))\n",
        "  countryFrom = input(\"Enter the country of traveler from : \")\n",
        "  list_obj.append(Traveler(travelerName,traveledCountry,travelerAge,countryFrom))\n",
        "\n",
        "Find_Country = input(\"Enter the country Name Tobe Find : \")\n",
        "\n",
        "ans1 = TravelAgency.countTravlersTraveledCountry(traveledCountry,Find_Country)\n",
        "ans2 = TravelAgency.getTravellerTraveledMaxCountry(traveledCountry)\n",
        "\n",
        "print(f\"The No Of Traveler Traveled in {Find_Country} is : {ans1}\")\n",
        "print(f\"The Name of Traveler Traveled In Maxmum Country : {ans2}\")\n",
        "\n"
      ]
    },
    {
      "cell_type": "code",
      "source": [
        ""
      ],
      "metadata": {
        "id": "DMdGj9sBvZ24"
      },
      "execution_count": null,
      "outputs": []
    },
    {
      "cell_type": "code",
      "source": [
        ""
      ],
      "metadata": {
        "id": "gR2PlhwZ0YTl"
      },
      "execution_count": null,
      "outputs": []
    },
    {
      "cell_type": "code",
      "source": [
        ""
      ],
      "metadata": {
        "id": "4lQCf6so0eBs"
      },
      "execution_count": null,
      "outputs": []
    }
  ]
}