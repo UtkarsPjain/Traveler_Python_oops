{
  "nbformat": 4,
  "nbformat_minor": 0,
  "metadata": {
    "colab": {
      "name": "Subject_Python_oops.ipynb",
      "provenance": [],
      "collapsed_sections": []
    },
    "kernelspec": {
      "name": "python3",
      "display_name": "Python 3"
    },
    "language_info": {
      "name": "python"
    }
  },
  "cells": [
    {
      "cell_type": "code",
      "execution_count": 10,
      "metadata": {
        "colab": {
          "base_uri": "https://localhost:8080/"
        },
        "id": "lnudxaSmQ9MW",
        "outputId": "9417cb79-4d49-43ff-b3b0-62d776f88c9c"
      },
      "outputs": [
        {
          "output_type": "stream",
          "name": "stdout",
          "text": [
            "enter the number of Professor : 1\n",
            "Enter the ProfID : 201\n",
            "Enter the Professor Name : uj\n",
            "Enter the no of sub : 2\n",
            "enter the sub name : math\n",
            "Enter the total experience : 5\n",
            "enter the sub name : sci\n",
            "Enter the total experience : 2\n",
            "Enter the prof Id Of which Experience Want to See : 201\n",
            "Enter the subject name of which Professor have maximum experience : math\n",
            "7\n",
            "201 uj {'math': 5, 'sci': 2}\n"
          ]
        }
      ],
      "source": [
        "class Professor:\n",
        "  \n",
        "  def __init__(self,profId,profName,subjectDict):\n",
        "    self.profId = profId\n",
        "    self.profName = profName\n",
        "    self.subjectDict = subjectDict\n",
        "\n",
        "\n",
        "class University:\n",
        "\n",
        "  def getTotalExperience(profList, reqProfId):\n",
        "    total = 0\n",
        "    for i in profList:\n",
        "      if i.profId == reqProfId:\n",
        "        total = sum(i.subjectDict.values())\n",
        "        return total\n",
        "  def selectSeniorprofessorByExperience(profList,reqSubjectName):\n",
        "    HighExpProf = None\n",
        "    max = 0\n",
        "    for i in profList:\n",
        "      for j in i.subjectDict.keys():\n",
        "        if reqSubjectName.lower() == j.lower() : # J contein Sublect Name\n",
        "          if i.subjectDict[j]>max:\n",
        "            max = i.subjectDict[j]\n",
        "            HighExpProf = i\n",
        "    return HighExpProf\n",
        "\n",
        "\n",
        "if __name__ ==\"__main__\":\n",
        "\n",
        "  n = int(input(\"enter the number of Professor : \"))\n",
        "  profList = []\n",
        "\n",
        "  for i in range (n):\n",
        "    profId = int(input(\"Enter the ProfID : \"))\n",
        "    profName = input(\"Enter the Professor Name : \")\n",
        "    no_Of_sub = int(input(\"Enter the no of sub : \"))\n",
        "    subjectDict = {}\n",
        "    for j in range (no_Of_sub):\n",
        "      key = input(\"enter the sub name : \")\n",
        "      value = int(input(\"Enter the total experience : \"))\n",
        "      subjectDict[key] = value\n",
        "    obj = Professor(profId, profName, subjectDict)\n",
        "    profList.append(obj)\n",
        "\n",
        "  reqProfId = int(input(\"Enter the prof Id Of which Experience Want to See : \"))\n",
        "\n",
        "  reqSubjectName = input(\"Enter the subject name of which Professor have maximum experience : \")\n",
        "\n",
        "  ans1 = University.getTotalExperience(profList, reqProfId)\n",
        "  print(ans1)\n",
        "  ans2 = University.selectSeniorprofessorByExperience(profList,reqSubjectName)\n",
        "  if ans2 != None:\n",
        "    print(str(ans2.profId)+\" \"+ans2.profName+\" \"+str(ans2.subjectDict))\n",
        "  else:\n",
        "    print(\"None\")"
      ]
    },
    {
      "cell_type": "code",
      "source": [
        ""
      ],
      "metadata": {
        "id": "J-wmvrpeeUep"
      },
      "execution_count": 10,
      "outputs": []
    },
    {
      "cell_type": "code",
      "source": [
        ""
      ],
      "metadata": {
        "id": "Vyusmnz7qONY"
      },
      "execution_count": null,
      "outputs": []
    }
  ]
}